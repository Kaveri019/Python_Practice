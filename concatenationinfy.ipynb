{
 "cells": [
  {
   "cell_type": "code",
   "execution_count": 1,
   "id": "9e661710",
   "metadata": {},
   "outputs": [
    {
     "name": "stdout",
     "output_type": "stream",
     "text": [
      "3,1,6,4,2,3,7,2\n",
      "4249\n"
     ]
    }
   ],
   "source": [
    "l=list(map(int,input().split(\",\")));\n",
    "Num1=sum(l[:l.index(4)])+sum(l[l.index(7)+1:]);\n",
    "l2=l[l.index(4):l.index(7)+1];\n",
    "l3=list(map(str,l2));\n",
    "Num2=\" \";\n",
    "for i in l3:\n",
    "    Num2=Num2+i;\n",
    "sum=Num1+int(Num2);\n",
    "print(sum);\n"
   ]
  },
  {
   "cell_type": "code",
   "execution_count": null,
   "id": "9597db37",
   "metadata": {},
   "outputs": [],
   "source": []
  }
 ],
 "metadata": {
  "kernelspec": {
   "display_name": "Python 3",
   "language": "python",
   "name": "python3"
  },
  "language_info": {
   "codemirror_mode": {
    "name": "ipython",
    "version": 3
   },
   "file_extension": ".py",
   "mimetype": "text/x-python",
   "name": "python",
   "nbconvert_exporter": "python",
   "pygments_lexer": "ipython3",
   "version": "3.8.8"
  }
 },
 "nbformat": 4,
 "nbformat_minor": 5
}
