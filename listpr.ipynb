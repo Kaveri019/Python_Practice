{
 "cells": [
  {
   "cell_type": "code",
   "execution_count": 1,
   "id": "5945d9e1",
   "metadata": {},
   "outputs": [
    {
     "name": "stdout",
     "output_type": "stream",
     "text": [
      "Enter number of elements you want to insert:3\n",
      "Enetr number:1\n",
      "Enetr number:2\n",
      "Enetr number:3\n",
      "[1, 2, 3]\n"
     ]
    }
   ],
   "source": [
    "List=[];\n",
    "n=int(input(\"Enter number of elements you want to insert:\"));\n",
    "for i in range(n):\n",
    "    ele=int(input(\"Enetr number:\"));\n",
    "    List.append(ele);\n",
    "print(List);"
   ]
  },
  {
   "cell_type": "code",
   "execution_count": 8,
   "id": "de7f36f5",
   "metadata": {},
   "outputs": [
    {
     "name": "stdout",
     "output_type": "stream",
     "text": [
      "[1, 2, 1, 2]\n",
      "[1, 2, 1, 2, 10, 20, 30]\n",
      "[1, 2, 1, 2, 10, 20, 30, 40, 50]\n",
      "[1, 2, 1, 2, 10, 20, 30, 40, 50, 'Fname', 'Lname']\n"
     ]
    }
   ],
   "source": [
    "List=[1,2];\n",
    "List.extend(List);\n",
    "print(List);\n",
    "\n",
    "s={10,20,30};\n",
    "t=(40,50);\n",
    "d={\"Fname\":\"Kaveri\",\"Lname\":\"Nandre\"};\n",
    "List.extend(s);\n",
    "print(List);\n",
    "List.extend(t);\n",
    "print(List);\n",
    "List.extend(d);\n",
    "print(List);"
   ]
  },
  {
   "cell_type": "code",
   "execution_count": 11,
   "id": "2a52aec6",
   "metadata": {},
   "outputs": [
    {
     "name": "stdout",
     "output_type": "stream",
     "text": [
      "[1, 2, 30, 3, 4]\n",
      "[1, 2, 30, 3, 4, 100]\n",
      "[1, 2, 3]\n",
      "[1, 20, 2, 3]\n",
      "[60, 1, 20, 2, 3]\n"
     ]
    }
   ],
   "source": [
    "l=[1,2,3,4];\n",
    "l.insert(2,30);\n",
    "print(l);\n",
    "l.insert(10,100);\n",
    "print(l);\n",
    "\n",
    "\n",
    "l=[1,2,3];\n",
    "print(l);\n",
    "l.insert(-2,20);\n",
    "print(l);\n",
    "\n",
    "l.insert(-6,60);\n",
    "print(l);\n"
   ]
  },
  {
   "cell_type": "code",
   "execution_count": 23,
   "id": "968b7391",
   "metadata": {},
   "outputs": [
    {
     "name": "stdout",
     "output_type": "stream",
     "text": [
      "2\n",
      "[1, 2, 3, 4, 5, 1, 2]\n",
      "After inserting 300 at 3 location in l1:\n",
      "Contents of l1 [1, 2, 3, 300, 4, 5, 1, 2]\n",
      "Contents of l [1, 2, 3, 4, 5, 1, 2]\n",
      "After inserting 400 at 3 location in l:\n",
      "Contents of l:[1, 2, 3, 400, 4, 5, 1, 2]\n",
      "Contents of l1:[1, 2, 3, 300, 4, 5, 1, 2]\n"
     ]
    }
   ],
   "source": [
    "l=[1,2,3,4,5,1,2];\n",
    "n=l.count(1);\n",
    "print(n);\n",
    "\n",
    "l1=l.copy();\n",
    "print(l1);\n",
    "print(\"After inserting 300 at 3 location in l1:\");\n",
    "l1.insert(3,300);\n",
    "print(\"Contents of l1\",l1);\n",
    "print(\"Contents of l\",l);\n",
    "\n",
    "print(\"After inserting 400 at 3 location in l:\");\n",
    "l.insert(3,400);\n",
    "\n",
    "print(\"Contents of l:\",end=\"\");\n",
    "print(l);\n",
    "print(\"Contents of l1:\",end=\"\");\n",
    "print(l1);"
   ]
  },
  {
   "cell_type": "code",
   "execution_count": 27,
   "id": "00706503",
   "metadata": {},
   "outputs": [
    {
     "name": "stdout",
     "output_type": "stream",
     "text": [
      "None\n",
      "After removing list l: [1, 3, 4]\n",
      "After poping element at location 1: 20\n",
      "After clearing elements of list ,list will contain: []\n"
     ]
    }
   ],
   "source": [
    "l=[1,2,3,4];\n",
    "print(l.remove(2));\n",
    "print(\"After removing list l:\",l);\n",
    "\n",
    "l1=[10,20,30,40,50];\n",
    "print(\"After poping element at location 1:\",l1.pop(1));\n",
    "l1.clear();\n",
    "print(\"After clearing elements of list ,list will contain:\",l1);\n"
   ]
  },
  {
   "cell_type": "code",
   "execution_count": 31,
   "id": "e2d99549",
   "metadata": {},
   "outputs": [
    {
     "name": "stdout",
     "output_type": "stream",
     "text": [
      "count of occurrence of 2 in list: 3\n",
      "index of 2 in list: 1\n",
      "After reversing list l [2, 5, 2, 4, 3, 2, 1]\n",
      "After sorting list l [1, 2, 2, 2, 3, 4, 5]\n"
     ]
    }
   ],
   "source": [
    "l=[1,2,3,4,2,5,2];\n",
    "print(\"count of occurrence of 2 in list:\",l.count(2));\n",
    "print(\"index of 2 in list:\",l.index(2));\n",
    "\n",
    "l.reverse();\n",
    "print(\"After reversing list l\",l);\n",
    "l.sort();\n",
    "print(\"After sorting list l\",l);"
   ]
  },
  {
   "cell_type": "code",
   "execution_count": null,
   "id": "8a09bbab",
   "metadata": {},
   "outputs": [],
   "source": []
  }
 ],
 "metadata": {
  "kernelspec": {
   "display_name": "Python 3",
   "language": "python",
   "name": "python3"
  },
  "language_info": {
   "codemirror_mode": {
    "name": "ipython",
    "version": 3
   },
   "file_extension": ".py",
   "mimetype": "text/x-python",
   "name": "python",
   "nbconvert_exporter": "python",
   "pygments_lexer": "ipython3",
   "version": "3.8.8"
  }
 },
 "nbformat": 4,
 "nbformat_minor": 5
}
