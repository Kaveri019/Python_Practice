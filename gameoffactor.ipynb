{
 "cells": [
  {
   "cell_type": "code",
   "execution_count": 5,
   "id": "611e6d1f",
   "metadata": {},
   "outputs": [
    {
     "name": "stdout",
     "output_type": "stream",
     "text": [
      "1,2,4,7\n",
      "[1, 4]\n"
     ]
    }
   ],
   "source": [
    "l=list(map(int,input().split(\",\")));\n",
    "l2=[];\n",
    "def sumoffac(num):\n",
    "        s=1;\n",
    "        for i in range(2,num+1):\n",
    "            if num%i==0:\n",
    "                s=s+i;\n",
    "        return s;\n",
    "\n",
    "for i in l:\n",
    "    val=sumoffac(i);\n",
    "    if val in l:\n",
    "        l2.append(i);\n",
    "\n",
    "if(len(l2)!=0):\n",
    "             print(sorted(l2));\n",
    "else:\n",
    "        print(-1);\n"
   ]
  },
  {
   "cell_type": "code",
   "execution_count": 13,
   "id": "0487ff5f",
   "metadata": {},
   "outputs": [
    {
     "name": "stdout",
     "output_type": "stream",
     "text": [
      "['1', '2', '3']\n",
      "123\n",
      "133\n"
     ]
    }
   ],
   "source": [
    "l2=[1,2,3];\n",
    "s=list(map(str,l2));\n",
    "print(s);\n",
    "a=\"\";\n",
    "for i in s:\n",
    "    a=a+i;\n",
    "print(a);\n",
    "num=10+int(a);\n",
    "print(num);"
   ]
  },
  {
   "cell_type": "code",
   "execution_count": null,
   "id": "e84f2a2a",
   "metadata": {},
   "outputs": [],
   "source": []
  }
 ],
 "metadata": {
  "kernelspec": {
   "display_name": "Python 3",
   "language": "python",
   "name": "python3"
  },
  "language_info": {
   "codemirror_mode": {
    "name": "ipython",
    "version": 3
   },
   "file_extension": ".py",
   "mimetype": "text/x-python",
   "name": "python",
   "nbconvert_exporter": "python",
   "pygments_lexer": "ipython3",
   "version": "3.8.8"
  }
 },
 "nbformat": 4,
 "nbformat_minor": 5
}
