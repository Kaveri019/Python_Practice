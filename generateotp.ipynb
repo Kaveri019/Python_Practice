{
 "cells": [
  {
   "cell_type": "code",
   "execution_count": 1,
   "id": "48cd8610",
   "metadata": {},
   "outputs": [
    {
     "name": "stdout",
     "output_type": "stream",
     "text": [
      "5624381275\n",
      "3616\n"
     ]
    }
   ],
   "source": [
    "n=input();\n",
    "l=\"\";\n",
    "for i in range(1,len(n),2):\n",
    "    k=int(n[i]);\n",
    "    s=k*k;\n",
    "    l=l+str(s);\n",
    "print(l[0:4]);\n"
   ]
  },
  {
   "cell_type": "code",
   "execution_count": null,
   "id": "506d63e1",
   "metadata": {},
   "outputs": [],
   "source": [
    "a=input();\n",
    "l=list(a);\n",
    "l2=list(map(int,l));\n",
    "l3=[];\n",
    "for i in range(len(l2)):\n",
    "     if i%2==0:\n",
    "        pass;\n",
    "     else:\n",
    "        l3.append(l[i]);\n",
    "l3=list(map(int,l3));\n",
    "def f(val):\n",
    "    return val*val;\n",
    "l3=list(map(f,l3));\n",
    "l3=list(map(str,l3));\n",
    "l4=\" \";\n",
    "for i in l3:\n",
    "    l4=l4+i;\n",
    "print(l4)\n",
    "print(l4[0:5]);\n",
    "\n",
    "\n"
   ]
  },
  {
   "cell_type": "code",
   "execution_count": null,
   "id": "ec91e9d3",
   "metadata": {},
   "outputs": [],
   "source": []
  },
  {
   "cell_type": "code",
   "execution_count": null,
   "id": "82c62590",
   "metadata": {},
   "outputs": [],
   "source": []
  }
 ],
 "metadata": {
  "kernelspec": {
   "display_name": "Python 3",
   "language": "python",
   "name": "python3"
  },
  "language_info": {
   "codemirror_mode": {
    "name": "ipython",
    "version": 3
   },
   "file_extension": ".py",
   "mimetype": "text/x-python",
   "name": "python",
   "nbconvert_exporter": "python",
   "pygments_lexer": "ipython3",
   "version": "3.8.8"
  }
 },
 "nbformat": 4,
 "nbformat_minor": 5
}
