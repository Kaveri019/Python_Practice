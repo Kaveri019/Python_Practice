{
 "cells": [
  {
   "cell_type": "code",
   "execution_count": 4,
   "id": "2c62d93c",
   "metadata": {},
   "outputs": [
    {
     "name": "stdout",
     "output_type": "stream",
     "text": [
      "kaveri bhaskar nadre\n",
      "['kaveri', 'bhaskar', 'nadre']\n",
      "['Geeks', 'For', 'Geeks']\n",
      "kaveri bhaskar nadre\n",
      "Geeks-For-Geeks\n"
     ]
    }
   ],
   "source": [
    "l=input().split();\n",
    "print(l);\n",
    "l1=\"Geeks-For-Geeks\".split(\"-\");\n",
    "print(l1);\n",
    "\n",
    "str1=\" \".join(l);\n",
    "print(str1);\n",
    "str2=\"-\".join(l1);\n",
    "print(str2);"
   ]
  },
  {
   "cell_type": "code",
   "execution_count": null,
   "id": "53ce56dd",
   "metadata": {},
   "outputs": [],
   "source": [
    "\n",
    "li=list(map(int,input().split(\",\")));\n",
    "print(li);"
   ]
  },
  {
   "cell_type": "code",
   "execution_count": null,
   "id": "d7643c81",
   "metadata": {},
   "outputs": [],
   "source": [
    "\n",
    "li=list(map(int,input().split(\",\")));\n",
    "print(li);"
   ]
  },
  {
   "cell_type": "code",
   "execution_count": null,
   "id": "94750827",
   "metadata": {},
   "outputs": [],
   "source": [
    "str=input();\n",
    "l=str.split(\",\");\n",
    "print(l);\n",
    "l=list(map(int,l));\n",
    "print(l);\n"
   ]
  },
  {
   "cell_type": "code",
   "execution_count": null,
   "id": "bd5c0020",
   "metadata": {},
   "outputs": [],
   "source": []
  }
 ],
 "metadata": {
  "kernelspec": {
   "display_name": "Python 3",
   "language": "python",
   "name": "python3"
  },
  "language_info": {
   "codemirror_mode": {
    "name": "ipython",
    "version": 3
   },
   "file_extension": ".py",
   "mimetype": "text/x-python",
   "name": "python",
   "nbconvert_exporter": "python",
   "pygments_lexer": "ipython3",
   "version": "3.8.8"
  }
 },
 "nbformat": 4,
 "nbformat_minor": 5
}
