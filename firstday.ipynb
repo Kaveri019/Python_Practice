{
 "cells": [
  {
   "cell_type": "code",
   "execution_count": 1,
   "id": "5fe43c07",
   "metadata": {},
   "outputs": [
    {
     "name": "stdout",
     "output_type": "stream",
     "text": [
      "Enter number10\n",
      "Value of n: 10\n"
     ]
    }
   ],
   "source": [
    "n=input(\"Enter number\");\n",
    "print(\"Value of n:\",n);\n"
   ]
  },
  {
   "cell_type": "code",
   "execution_count": 1,
   "id": "0699dafc",
   "metadata": {},
   "outputs": [
    {
     "name": "stdout",
     "output_type": "stream",
     "text": [
      "Enter number10\n",
      "Enter number20\n",
      "Value of n1 and n2 are respectively 10,20\n",
      "value=123.35\n",
      "value =10\n",
      "value =Hello\n",
      "vale of n1=10 and n2=20\n",
      "Value of n1 10\n"
     ]
    }
   ],
   "source": [
    "n1=int(input(\"Enter number\"))\n",
    "n2=int(input(\"Enter number\"))\n",
    "print(\"Value of n1 and n2 are respectively %d,%d\" %(n1,n2))\n",
    "print(\"value=%.2f\"%123.34567)\n",
    "print(\"value =%i\" %n1)\n",
    "print(\"value =%s\" %'Hello')\n",
    "print(\"vale of n1={} and n2={}\".format(n1,n2))\n",
    "print(\"Value of n1\",n1);\n"
   ]
  },
  {
   "cell_type": "code",
   "execution_count": 17,
   "id": "8cedc466",
   "metadata": {},
   "outputs": [
    {
     "name": "stdout",
     "output_type": "stream",
     "text": [
      "a\n",
      "A\n",
      "0\n",
      "9\n",
      "z\n",
      "Z\n"
     ]
    }
   ],
   "source": [
    "print(\"%c\" %97)\n",
    "print(\"%c\" %65)\n",
    "print(\"%c\" %48)\n",
    "print(\"%c\" %57)\n",
    "print(\"%c\" %122)\n",
    "print(\"%c\" %90)"
   ]
  },
  {
   "cell_type": "code",
   "execution_count": 55,
   "id": "e2d41834",
   "metadata": {},
   "outputs": [
    {
     "name": "stdout",
     "output_type": "stream",
     "text": [
      "a b c d e f g h i j k l m n o p q r s t u v w x y z \n",
      "a b c d e f g h i j k l m n o p q r s t u v w x y z \n",
      "hello Welcome HiThe end\n",
      "hello/Welcome/HiThe end"
     ]
    }
   ],
   "source": [
    "for i in range(97,123):\n",
    "     print(\"%c\" %i,end=' ')\n",
    "        \n",
    "print()\n",
    "\n",
    "for i in range(97,123):\n",
    "     print(\"%c\" %i,end=\" \")\n",
    "        \n",
    "print()\n",
    "print(\"hello\",\"Welcome\",\"Hi\",end='The end')   \n",
    "print()\n",
    "print(\"hello\",\"Welcome\",\"Hi\",sep='/',end='The end')"
   ]
  },
  {
   "cell_type": "code",
   "execution_count": 61,
   "id": "4c7d1f86",
   "metadata": {},
   "outputs": [
    {
     "name": "stdout",
     "output_type": "stream",
     "text": [
      "A \n",
      "A B \n",
      "A B C \n",
      "A B C D \n",
      "A B C D E \n"
     ]
    }
   ],
   "source": [
    "for i in range(1,6):\n",
    "    \n",
    "    for j in range(65,65+i):\n",
    "         print(\"%c\" %j,end=\" \");\n",
    "    print()"
   ]
  },
  {
   "cell_type": "code",
   "execution_count": 63,
   "id": "b500d1c6",
   "metadata": {},
   "outputs": [
    {
     "name": "stdout",
     "output_type": "stream",
     "text": [
      "A \n",
      "B C \n",
      "C D E \n",
      "D E F G \n",
      "E F G H I \n"
     ]
    }
   ],
   "source": [
    "for i in range(1,6):\n",
    "    n1=64+i;\n",
    "    n2=n1+i;\n",
    "    for j in range(n1,n2):\n",
    "        print(\"%c\" %j,end=\" \");\n",
    "    print();"
   ]
  },
  {
   "cell_type": "code",
   "execution_count": 65,
   "id": "5cf4ce5c",
   "metadata": {},
   "outputs": [
    {
     "name": "stdout",
     "output_type": "stream",
     "text": [
      "a\n"
     ]
    }
   ],
   "source": [
    "print(chr(97));"
   ]
  },
  {
   "cell_type": "code",
   "execution_count": 66,
   "id": "f6b77344",
   "metadata": {},
   "outputs": [
    {
     "name": "stdout",
     "output_type": "stream",
     "text": [
      "a \n",
      "b b \n",
      "c c c \n",
      "d d d d \n",
      "e e e e e \n"
     ]
    }
   ],
   "source": [
    "k=1\n",
    "for i in range(97,102):\n",
    "    k=k+1\n",
    "    for j in range(1,k):\n",
    "        print(\"%c\" %i,end=\" \");\n",
    "    print();"
   ]
  },
  {
   "cell_type": "code",
   "execution_count": 3,
   "id": "14cdae0d",
   "metadata": {},
   "outputs": [
    {
     "name": "stdout",
     "output_type": "stream",
     "text": [
      "1 \n",
      "2 2 \n",
      "3 3 3 \n",
      "4 4 4 4 \n",
      "5 5 5 5 5 \n"
     ]
    }
   ],
   "source": [
    "for i in range(1,6):\n",
    "    for j in range(1,i+1):\n",
    "         print(i,end=\" \");\n",
    "    print();"
   ]
  },
  {
   "cell_type": "code",
   "execution_count": null,
   "id": "cdd2e29d",
   "metadata": {},
   "outputs": [],
   "source": []
  }
 ],
 "metadata": {
  "kernelspec": {
   "display_name": "Python 3",
   "language": "python",
   "name": "python3"
  },
  "language_info": {
   "codemirror_mode": {
    "name": "ipython",
    "version": 3
   },
   "file_extension": ".py",
   "mimetype": "text/x-python",
   "name": "python",
   "nbconvert_exporter": "python",
   "pygments_lexer": "ipython3",
   "version": "3.8.8"
  }
 },
 "nbformat": 4,
 "nbformat_minor": 5
}
