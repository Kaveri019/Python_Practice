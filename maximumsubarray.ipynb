{
 "cells": [
  {
   "cell_type": "code",
   "execution_count": null,
   "id": "9bef172d",
   "metadata": {},
   "outputs": [],
   "source": [
    "array=list(map(int,input().split(\",\")));\n",
    "array=sorted(array);\n",
    "j=[];\n",
    "j.append(array[0]);\n",
    "j.append(array[1]);\n",
    "print(j);\n",
    "for i in range(2,len(array)):\n",
    "    a=j[i-1]+j[i-2];\n",
    "    if a in array:\n",
    "        j.append(j[i-1]+j[i-2]);\n",
    "        break;\n",
    "print(j);\n",
    "\n"
   ]
  },
  {
   "cell_type": "code",
   "execution_count": null,
   "id": "ffe9e58b",
   "metadata": {},
   "outputs": [],
   "source": []
  },
  {
   "cell_type": "code",
   "execution_count": null,
   "id": "b5c1db29",
   "metadata": {},
   "outputs": [],
   "source": []
  },
  {
   "cell_type": "code",
   "execution_count": null,
   "id": "d9cbc112",
   "metadata": {},
   "outputs": [],
   "source": []
  }
 ],
 "metadata": {
  "kernelspec": {
   "display_name": "Python 3",
   "language": "python",
   "name": "python3"
  },
  "language_info": {
   "codemirror_mode": {
    "name": "ipython",
    "version": 3
   },
   "file_extension": ".py",
   "mimetype": "text/x-python",
   "name": "python",
   "nbconvert_exporter": "python",
   "pygments_lexer": "ipython3",
   "version": "3.8.8"
  }
 },
 "nbformat": 4,
 "nbformat_minor": 5
}
