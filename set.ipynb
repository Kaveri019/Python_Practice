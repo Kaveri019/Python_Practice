{
 "cells": [
  {
   "cell_type": "code",
   "execution_count": 10,
   "id": "b56159ff",
   "metadata": {},
   "outputs": [
    {
     "name": "stdout",
     "output_type": "stream",
     "text": [
      "{10, 20, 30}\n",
      "Whether s is subset of s2: True\n",
      "Whether s2 is superset of s: True\n",
      "s1-s2: {2, 3, 4}\n",
      "s1.union(s2) {2, 3, 4, 40, 10, 50, 20, 30}\n",
      "s1 & s2 {10, 20}\n",
      "s1.symmetric_difference(s2): {50, 2, 3, 4, 40, 30}\n",
      "{2, 3, 4}\n",
      "{40, 50, 30}\n",
      "{40, 30}\n"
     ]
    }
   ],
   "source": [
    "s=set({10,20,30});\n",
    "print(s);\n",
    "s1={2,3,4,10,20};\n",
    "s2={10,20,30,40,50};\n",
    "print(\"Whether s is subset of s2:\",s.issubset(s2));\n",
    "print(\"Whether s2 is superset of s:\",s2.issuperset(s));\n",
    "print(\"s1-s2:\",s1.difference(s));\n",
    "print(\"s1.union(s2)\",s1.union(s2));\n",
    "print(\"s1 & s2\",s1.intersection(s2));\n",
    "print(\"s1.symmetric_difference(s2):\",s1.symmetric_difference(s2));\n",
    "s1.difference_update(s2);\n",
    "print(s1);\n",
    "\n",
    "s={10,20};\n",
    "s2.symmetric_difference_update(s);\n",
    "print(s2);\n",
    "\n",
    "s={10,20,30,40};\n",
    "s1={10,20};\n",
    "s.symmetric_difference_update(s1);\n",
    "print(s);\n",
    "\n",
    "\n",
    "\n",
    "\n",
    "\n"
   ]
  },
  {
   "cell_type": "code",
   "execution_count": null,
   "id": "134fec65",
   "metadata": {},
   "outputs": [],
   "source": []
  }
 ],
 "metadata": {
  "kernelspec": {
   "display_name": "Python 3",
   "language": "python",
   "name": "python3"
  },
  "language_info": {
   "codemirror_mode": {
    "name": "ipython",
    "version": 3
   },
   "file_extension": ".py",
   "mimetype": "text/x-python",
   "name": "python",
   "nbconvert_exporter": "python",
   "pygments_lexer": "ipython3",
   "version": "3.8.8"
  }
 },
 "nbformat": 4,
 "nbformat_minor": 5
}
