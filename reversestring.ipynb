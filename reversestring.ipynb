{
 "cells": [
  {
   "cell_type": "code",
   "execution_count": 1,
   "id": "149a4553",
   "metadata": {},
   "outputs": [
    {
     "name": "stdout",
     "output_type": "stream",
     "text": [
      "google\n",
      "['g', 'o', 'l', 'e']\n",
      "e l o g\n"
     ]
    }
   ],
   "source": [
    "string=input();\n",
    "d=list(dict.fromkeys(string));\n",
    "print(d);\n",
    "d.reverse();\n",
    "print(\" \".join(d));\n"
   ]
  },
  {
   "cell_type": "code",
   "execution_count": 2,
   "id": "102123ee",
   "metadata": {},
   "outputs": [
    {
     "name": "stdout",
     "output_type": "stream",
     "text": [
      "infosys\n",
      "ysofni \n"
     ]
    }
   ],
   "source": [
    "st=input();\n",
    "output_str=\" \";\n",
    "for i in st:\n",
    "    if i not in output_str:\n",
    "        output_str+=i;\n",
    "print(output_str[::-1]);\n"
   ]
  },
  {
   "cell_type": "code",
   "execution_count": null,
   "id": "460d77a0",
   "metadata": {},
   "outputs": [],
   "source": []
  }
 ],
 "metadata": {
  "kernelspec": {
   "display_name": "Python 3",
   "language": "python",
   "name": "python3"
  },
  "language_info": {
   "codemirror_mode": {
    "name": "ipython",
    "version": 3
   },
   "file_extension": ".py",
   "mimetype": "text/x-python",
   "name": "python",
   "nbconvert_exporter": "python",
   "pygments_lexer": "ipython3",
   "version": "3.8.8"
  }
 },
 "nbformat": 4,
 "nbformat_minor": 5
}
